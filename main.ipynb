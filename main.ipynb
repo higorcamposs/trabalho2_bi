{
 "cells": [
  {
   "attachments": {},
   "cell_type": "markdown",
   "metadata": {},
   "source": [
    "# Trabalho 2 - Inteligência de Negócio"
   ]
  },
  {
   "attachments": {},
   "cell_type": "markdown",
   "metadata": {},
   "source": [
    "## Imports"
   ]
  },
  {
   "cell_type": "code",
   "execution_count": null,
   "metadata": {},
   "outputs": [],
   "source": [
    "import pandas as pd\n",
    "import numpy as np\n",
    "import matplotlib.pyplot as plt\n",
    "import seaborn as sns\n",
    "import plotly.express as px\n",
    "import inspect"
   ]
  },
  {
   "attachments": {},
   "cell_type": "markdown",
   "metadata": {},
   "source": [
    "## Load data"
   ]
  },
  {
   "cell_type": "code",
   "execution_count": null,
   "metadata": {},
   "outputs": [],
   "source": [
    "path_train = \"../trabalho2_bi/data/train.csv\"\n",
    "path_test = \"../trabalho2_bi/data/test.csv\"\n",
    "path_oil = \"../trabalho2_bi/data/oil.csv\"\n",
    "path_stores = \"../trabalho2_bi/data/stores.csv\"\n",
    "path_holidays = \"../trabalho2_bi/data/holidays_events.csv\"\n",
    "path_transactions = \"../trabalho2_bi/data/transactions.csv\"\n",
    "\n",
    "df_train = pd.read_csv(path_train)\n",
    "df_test = pd.read_csv(path_test)\n",
    "df_oil = pd.read_csv(path_oil)\n",
    "df_stores = pd.read_csv(path_stores)\n",
    "df_holidays = pd.read_csv(path_holidays)\n",
    "df_transactions = pd.read_csv(path_transactions)"
   ]
  },
  {
   "cell_type": "code",
   "execution_count": null,
   "metadata": {},
   "outputs": [],
   "source": [
    "df_train"
   ]
  },
  {
   "attachments": {},
   "cell_type": "markdown",
   "metadata": {},
   "source": [
    "## Functions"
   ]
  },
  {
   "cell_type": "code",
   "execution_count": null,
   "metadata": {},
   "outputs": [],
   "source": [
    "def print_missing_values(*dfs):\n",
    "    for df in dfs:\n",
    "        # Obtendo o nome da variável original\n",
    "        name = [name for name, val in inspect.currentframe().f_back.f_locals.items() if val is df][0]\n",
    "        print(f\"____________{name}____________\")\n",
    "        print(df.isna().sum())\n",
    "        print()\n",
    "\n",
    "# Exemplo de uso:\n",
    "print_missing_values(df_train, df_test,df_holidays, df_transactions, df_test, df_oil)\n"
   ]
  },
  {
   "cell_type": "code",
   "execution_count": null,
   "metadata": {},
   "outputs": [],
   "source": [
    "df_train.isna().sum()"
   ]
  },
  {
   "cell_type": "code",
   "execution_count": null,
   "metadata": {},
   "outputs": [],
   "source": [
    "df_train.shape, df_train.info()"
   ]
  },
  {
   "cell_type": "code",
   "execution_count": null,
   "metadata": {},
   "outputs": [],
   "source": [
    "df_train['date'] = pd.to_datetime(df_train['date'])\n",
    "df_train"
   ]
  },
  {
   "attachments": {},
   "cell_type": "markdown",
   "metadata": {},
   "source": [
    "Há 33 famílias de produtos em 54 lojas categorizadas em 5 tipos de lojas: A, B, C, D, E e 17 clusters, que são um agrupamento de lojas semelhantes em 22 cidades de 16 estados."
   ]
  },
  {
   "cell_type": "code",
   "execution_count": null,
   "metadata": {},
   "outputs": [],
   "source": []
  },
  {
   "attachments": {},
   "cell_type": "markdown",
   "metadata": {},
   "source": [
    "## Plots"
   ]
  },
  {
   "cell_type": "code",
   "execution_count": null,
   "metadata": {},
   "outputs": [],
   "source": [
    "# Plot the time series as a scatter plot\n",
    "plt.figure(figsize=(12, 6)) \n",
    "plt.scatter(df_train['date'], df_train['sales'], label='Sales', marker='o', s=10)\n",
    "plt.xlabel('Date')\n",
    "plt.ylabel('Sales')\n",
    "plt.title('Sales by the date')\n",
    "plt.legend()\n",
    "plt.grid(True)\n",
    "plt.show()"
   ]
  },
  {
   "cell_type": "code",
   "execution_count": null,
   "metadata": {},
   "outputs": [],
   "source": []
  },
  {
   "cell_type": "code",
   "execution_count": null,
   "metadata": {},
   "outputs": [],
   "source": [
    "# Criando o gráfico de dispersão\n",
    "fig = px.scatter(df_train, x='date', y='sales', title='Quantidade de vendas por data', labels={'date': 'Data', 'sales': 'Vendas'})\n",
    "\n",
    "# Exibindo o gráfico\n",
    "fig.show()"
   ]
  },
  {
   "attachments": {},
   "cell_type": "markdown",
   "metadata": {},
   "source": [
    "Família de produtos Vendas mensais\n",
    "Tendências de transações para cada loja"
   ]
  },
  {
   "cell_type": "markdown",
   "metadata": {},
   "source": []
  }
 ],
 "metadata": {
  "kernelspec": {
   "display_name": "Python 3",
   "language": "python",
   "name": "python3"
  },
  "language_info": {
   "codemirror_mode": {
    "name": "ipython",
    "version": 3
   },
   "file_extension": ".py",
   "mimetype": "text/x-python",
   "name": "python",
   "nbconvert_exporter": "python",
   "pygments_lexer": "ipython3",
   "version": "3.11.5"
  },
  "orig_nbformat": 4,
  "vscode": {
   "interpreter": {
    "hash": "b7ecf73b86c5fcc64817191b7d9c981e654404da6694f62adab43d3057d16934"
   }
  }
 },
 "nbformat": 4,
 "nbformat_minor": 2
}
